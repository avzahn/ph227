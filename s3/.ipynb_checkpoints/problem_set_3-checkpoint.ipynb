{
 "cells": [
  {
   "cell_type": "markdown",
   "metadata": {},
   "source": [
    "# 2"
   ]
  },
  {
   "cell_type": "markdown",
   "metadata": {},
   "source": [
    "Fortunately, it turns out the convergent profiles can actually be integrated analytically, with a small simplifying assumption.\n",
    "\n",
    "Suppose all the galaxies we're concerned with are approximately circular. Then the measure of integration for the intensity profile is just the differential area of a circular annulus $\\pi(r + dr)^2 - \\pi r^2 = 2\\pi r dr + O(dr^2)$\n",
    "\n",
    "We have\n",
    "\n",
    "$$ \\begin{align} \n",
    "    L_{deVaucouleur} &= 2\\pi \\int_0^\\infty  e^{-(r/R)^{1/4}}rdr \\\\[12pt]\n",
    "        &= 40320 \\pi R^{2}\n",
    "\\end{align}$$\n",
    "\n",
    "Proof is a straightforward (but incredibly long) exercise in iterative integration by parts that I left to Mathematica, but this does demonstrate convergence. We'll have to get $r_{1/2}$ numerically though, because even though Mathematica does give a formula for $L(r)$, it's too horrifying to be useful, and excruciating to typeset.\n",
    "\n"
   ]
  },
  {
   "cell_type": "code",
   "execution_count": 21,
   "metadata": {
    "collapsed": false
   },
   "outputs": [
    {
     "name": "stdout",
     "output_type": "stream",
     "text": [
      "Using matplotlib backend: Qt4Agg\n"
     ]
    }
   ],
   "source": [
    "%matplotlib\n",
    "import numpy as np\n",
    "\n",
    "R = 1 # Mpc\n",
    "L_tot = np.pi * 40320 * R*R\n",
    "r = np.linspace(0,1e5,1e7)\n",
    "dr = r[1]-r[0]\n",
    "L = (2*np.pi)*np.cumsum(np.exp(-((r/R)**0.25))*r*dr)\n",
    "\n",
    "for i,f in enumerate(L/L_tot):\n",
    "    if 0.49 < f < 0.51:\n",
    "        print r[i]\n",
    "        break\n",
    "\n"
   ]
  },
  {
   "cell_type": "markdown",
   "metadata": {},
   "source": [
    "\n",
    "The spiral case is simpler however.\n",
    "\n",
    "$$ \\begin{align} \n",
    "    \\int_0^r I_{spiral} dA &= 2\\pi \\int_0^r  e^{-(r/R)}rdr \\\\[12pt]\n",
    "        &= 2 \\pi R\\left(R-e^{-r/R}(R+r)\\right) \\\\[12pt]\n",
    "        &\\implies L_{spiral} = 2\\pi R^2\n",
    "\\end{align}$$\n",
    "\n",
    "So we find $r_{1/2}$ by requiring\n",
    "\n",
    "$$\n",
    "2 \\pi R\\left(R-e^{-r_{1/2}/R}(R+r_{1/2})\\right) = \\pi R^2\n",
    "$$\n"
   ]
  },
  {
   "cell_type": "code",
   "execution_count": 11,
   "metadata": {
    "collapsed": false
   },
   "outputs": [
    {
     "data": {
      "text/plain": [
       "array([  0.00000000e+00,   9.04855289e-09,   2.68064667e-08, ...,\n",
       "         1.04680523e+01,   1.04682213e+01,   1.04683902e+01])"
      ]
     },
     "execution_count": 11,
     "metadata": {},
     "output_type": "execute_result"
    }
   ],
   "source": [
    "L"
   ]
  },
  {
   "cell_type": "code",
   "execution_count": 22,
   "metadata": {
    "collapsed": false
   },
   "outputs": [
    {
     "data": {
      "text/plain": [
       "[<matplotlib.lines.Line2D at 0xb69e400>]"
      ]
     },
     "execution_count": 22,
     "metadata": {},
     "output_type": "execute_result"
    }
   ],
   "source": [
    "plot(L/L_tot)"
   ]
  },
  {
   "cell_type": "code",
   "execution_count": null,
   "metadata": {
    "collapsed": true
   },
   "outputs": [],
   "source": []
  }
 ],
 "metadata": {
  "kernelspec": {
   "display_name": "Python 2",
   "language": "python",
   "name": "python2"
  },
  "language_info": {
   "codemirror_mode": {
    "name": "ipython",
    "version": 2
   },
   "file_extension": ".py",
   "mimetype": "text/x-python",
   "name": "python",
   "nbconvert_exporter": "python",
   "pygments_lexer": "ipython2",
   "version": "2.7.10"
  }
 },
 "nbformat": 4,
 "nbformat_minor": 0
}
