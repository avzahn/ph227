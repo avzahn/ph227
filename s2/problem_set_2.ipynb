{
 "cells": [
  {
   "cell_type": "markdown",
   "metadata": {},
   "source": [
    "# 2"
   ]
  },
  {
   "cell_type": "markdown",
   "metadata": {},
   "source": [
    "We have from 1.6.8 that\n",
    "\n",
    "$$ r \\approx \\frac{c}{a_0H_0} \\left[ z - \\frac{1}{2}(1+q_0)z^2 \\right] $$\n",
    "\n",
    "If $ a/a_0 = (t/t_0)^n $, we have\n",
    "\n",
    "$$ a_0 = 1$$\n",
    "$$ \\dot{a} = na_0\\left(\\frac{t}{t_0}\\right)^{n-1}$$\n",
    "$$ \\ddot{a} = na_0(n-1)\\left(\\frac{t}{t_0}\\right)^{n-2}$$\n",
    "\n",
    "$$ \\begin{align}\n",
    "q_0 &= -\\frac{\\ddot{a_0}a_0}{\\dot{a_0}^2} \\\\ \n",
    "&= \\frac{(1-n)}{n}(t/t0)^{-n} \\\\ \n",
    "&=\\frac{(1-n)}{n}(1+z) \n",
    "\\end{align}\n",
    "$$\n",
    "\n",
    "Substitution immediately recovers the results from the problem statement."
   ]
  },
  {
   "cell_type": "markdown",
   "metadata": {},
   "source": [
    "# 3"
   ]
  },
  {
   "cell_type": "code",
   "execution_count": 11,
   "metadata": {
    "collapsed": true
   },
   "outputs": [],
   "source": [
    "import numpy as np\n",
    "\n",
    "def dphi(z,c,b,H0,Wm,Wl):\n",
    "    \n",
    "    n = 1000\n",
    "    zz = np.linspace(0,z,n)\n",
    "    df = (1.0 / n) / np.sqrt( Wm*(1+zz)**3 + Wl )\n",
    "    ii = np.sum(df)\n",
    "    \n",
    "    return (1+z)*H0 / (c*ii)"
   ]
  },
  {
   "cell_type": "code",
   "execution_count": 12,
   "metadata": {
    "collapsed": false
   },
   "outputs": [
    {
     "name": "stdout",
     "output_type": "stream",
     "text": [
      "Using matplotlib backend: Qt4Agg\n",
      "Populating the interactive namespace from numpy and matplotlib\n"
     ]
    }
   ],
   "source": [
    "%pylab\n",
    "%matplotlib inline\n",
    "c = 9.716e-6 # Mpc per second\n",
    "H0 = 2e-18 # inverse seconds \n",
    "b = 1 # Mpc\n",
    "\n",
    "z = np.linspace(0.5,3,100)"
   ]
  },
  {
   "cell_type": "code",
   "execution_count": 13,
   "metadata": {
    "collapsed": false
   },
   "outputs": [
    {
     "data": {
      "text/plain": [
       "[<matplotlib.lines.Line2D at 0xa70b470>]"
      ]
     },
     "execution_count": 13,
     "metadata": {},
     "output_type": "execute_result"
    },
    {
     "data": {
      "image/png": "[encoded data removed]",
      "text/plain": [
       "<matplotlib.figure.Figure at 0xa70b4a8>"
      ]
     },
     "metadata": {},
     "output_type": "display_data"
    }
   ],
   "source": [
    "ylabel(\"$\\delta\\phi$\")\n",
    "xlabel(\"$z$\")\n",
    "\n",
    "# blue curve\n",
    "\n",
    "Wm = 0.3\n",
    "Wl = 0.7\n",
    "\n",
    "plot( z, [dphi(zz,c,b,H0,Wm,Wl) for zz in z] ) \n",
    "\n",
    "# green curve\n",
    "\n",
    "Wm = 1.0\n",
    "Wl = 0\n",
    "\n",
    "plot( z, [dphi(zz,c,b,H0,Wm,Wl) for zz in z] ) "
   ]
  },
  {
   "cell_type": "markdown",
   "metadata": {},
   "source": [
    "# 4"
   ]
  },
  {
   "cell_type": "markdown",
   "metadata": {},
   "source": [
    "Consider the Friedmann equation,\n",
    "\n",
    "$$ \\frac{\\dot{a}^2 + kc^2}{a^2} = \\frac{8\\pi\\rho + \\Lambda c^2}{3} $$\n",
    "\n",
    "For a flat, empty, $\\Lambda$-free universe, we can see immediately that $\\dot{a} = 0$ so that $a$ is constant. The flat FLRW metric is now trivially the Minkowski metric, with a rescaling of the distance unit that can be taken to be unity without loss of generality.\n"
   ]
  },
  {
   "cell_type": "markdown",
   "metadata": {
    "collapsed": true
   },
   "source": [
    "# 5"
   ]
  },
  {
   "cell_type": "markdown",
   "metadata": {},
   "source": [
    "Since we're given all the components of $\\Omega_0$, we know the value of the Hubble parameter at every scale factor:\n",
    "\n",
    "$$ H^2 = H_0^2 \\left[ \\Omega_{0m}\\left(\\frac{a_0}{a}\\right) + \\Omega_{0r}\\left(\\frac{a_0}{a}\\right)^2  + \\Omega_{0\\Lambda}\\left(\\frac{a_0}{a}\\right)^{-2} + (1-\\Omega_{0m}-\\Omega_{0r}-\\Omega_{0\\Lambda})\\right] $$\n",
    "\n",
    "which we can numerically integrate to find the scale factor at every point in time."
   ]
  },
  {
   "cell_type": "code",
   "execution_count": 60,
   "metadata": {
    "collapsed": false
   },
   "outputs": [],
   "source": [
    "# our expression for da/dt\n",
    "def get_adot(a,adot0,a0,Wm,Wr,Wl):\n",
    "    a0a = a0/a\n",
    "    a0a2 = a0a*a0a\n",
    "    return adot0*np.sqrt(( Wm*(a0a) + Wr*(a0a2) + Wl/(a0a2) + (1-Wm-Wr-Wl) ))\n",
    "\n",
    "# Adopt units where c= a0 = 1\n",
    "\n",
    "c = 1.0\n",
    "a0 = 1.0\n",
    "adot0 = 0.7\n",
    "t0 = 1/adot0\n",
    "Wl = 0.7\n",
    "Wm = 0.3\n",
    "Wr = 0\n",
    "\n",
    "# Use a simple implicit euler stepper to integrate\n",
    "\n",
    "a = [a0]\n",
    "adot = [adot0]\n",
    "\n",
    "n = 1000000\n",
    "t = np.linspace(t0,0.09,n)\n",
    "dt = t[1] - t[0]\n",
    "\n",
    "for i in range(n):\n",
    "    \n",
    "    _adot = get_adot(a[i], adot0, a0, Wm, Wr, Wl)\n",
    "    _a = a[i] + (_adot * dt)\n",
    "    \n",
    "    a.append(_a)\n",
    "    adot.append(_adot)\n",
    "\n",
    "a = np.array(a)\n",
    "adot = np.array(adot)\n",
    "z = -1 + 1/a"
   ]
  },
  {
   "cell_type": "markdown",
   "metadata": {},
   "source": [
    "We can also find $\\ddot{a}$, leaving out the $\\Omega_{0r}$ term we aren't using:\n",
    "\n",
    "$$ \\dot{a}^2 = \\dot{a}_0^2 \\left[ \\Omega_{0m}\\left(\\frac{a_0}{a}\\right) + \\Omega_{0r}\\left(\\frac{a_0}{a}\\right)^2  + \\Omega_{0\\Lambda}\\left(\\frac{a_0}{a}\\right)^{-2} + (1-\\Omega_{0m}-\\Omega_{0r}-\\Omega_{0\\Lambda})\\right] $$\n",
    "\n",
    "$$ \\implies \\ddot{a} = \\frac{\\dot{a}_0^2}{2\\dot{a}}\\left[ -\\Omega_{0m}a_0\\dot{a}a^{-2} + 2\\Omega_{0\\Lambda}a_0^{-2}\\dot{a}a \\right] $$\n",
    "\n",
    "\n"
   ]
  },
  {
   "cell_type": "code",
   "execution_count": 61,
   "metadata": {
    "collapsed": true
   },
   "outputs": [],
   "source": [
    "adotdot = 0.5*adot0*adot0 * (2.0*Wl*a/(adot0*adot0) - Wm/(a*a) )"
   ]
  },
  {
   "cell_type": "markdown",
   "metadata": {},
   "source": [
    "We now know more or less everything there is to know about this cosmology out to a redshift of about 11.6, and can go crazy calculating quantities."
   ]
  },
  {
   "cell_type": "code",
   "execution_count": 81,
   "metadata": {
    "collapsed": true
   },
   "outputs": [],
   "source": [
    "q = -adotdot*a/(adot*adot)\n",
    "\n",
    "Rc = c * a / adot\n",
    "\n",
    "# We aren't able to integrate back all the way to t=0 with this method, so values should be taken with a grain of salt\n",
    "RH = (a[::-1] * np.cumsum(dt*c/a[::-1]))[::-1]\n"
   ]
  },
  {
   "cell_type": "markdown",
   "metadata": {},
   "source": [
    "Finally, plot everything as a function of z"
   ]
  },
  {
   "cell_type": "code",
   "execution_count": 82,
   "metadata": {
    "collapsed": false
   },
   "outputs": [
    {
     "data": {
      "text/plain": [
       "<matplotlib.text.Text at 0x10d50940>"
      ]
     },
     "execution_count": 82,
     "metadata": {},
     "output_type": "execute_result"
    },
    {
     "data": {
      "image/png": "[encoded data removed]",
      "text/plain": [
       "<matplotlib.figure.Figure at 0xdfd2828>"
      ]
     },
     "metadata": {},
     "output_type": "display_data"
    }
   ],
   "source": [
    "plot(z,a)\n",
    "ylabel(\"$a$\")\n",
    "xlabel(\"$z$\")"
   ]
  },
  {
   "cell_type": "code",
   "execution_count": 83,
   "metadata": {
    "collapsed": false
   },
   "outputs": [
    {
     "data": {
      "text/plain": [
       "<matplotlib.text.Text at 0xe401278>"
      ]
     },
     "execution_count": 83,
     "metadata": {},
     "output_type": "execute_result"
    },
    {
     "data": {
      "image/png": "[encoded data removed]",
      "text/plain": [
       "<matplotlib.figure.Figure at 0x12c89828>"
      ]
     },
     "metadata": {},
     "output_type": "display_data"
    }
   ],
   "source": [
    "plot(z,adot/a)\n",
    "ylabel(\"$H$\")\n",
    "xlabel(\"$z$\")"
   ]
  },
  {
   "cell_type": "code",
   "execution_count": 84,
   "metadata": {
    "collapsed": false
   },
   "outputs": [
    {
     "data": {
      "text/plain": [
       "<matplotlib.text.Text at 0xacda518>"
      ]
     },
     "execution_count": 84,
     "metadata": {},
     "output_type": "execute_result"
    },
    {
     "data": {
      "image/png": "[encoded data removed]",
      "text/plain": [
       "<matplotlib.figure.Figure at 0xe5ed828>"
      ]
     },
     "metadata": {},
     "output_type": "display_data"
    }
   ],
   "source": [
    "plot(z,adotdot)\n",
    "ylabel(\"$\\ddot{a}$\")\n",
    "xlabel(\"$z$\")"
   ]
  },
  {
   "cell_type": "code",
   "execution_count": 85,
   "metadata": {
    "collapsed": false
   },
   "outputs": [
    {
     "data": {
      "text/plain": [
       "<matplotlib.text.Text at 0xe52fcc0>"
      ]
     },
     "execution_count": 85,
     "metadata": {},
     "output_type": "execute_result"
    },
    {
     "data": {
      "image/png": "[encoded data removed]",
      "text/plain": [
       "<matplotlib.figure.Figure at 0x133b74a8>"
      ]
     },
     "metadata": {},
     "output_type": "display_data"
    }
   ],
   "source": [
    "plot(z,q)\n",
    "ylabel(\"$q$\")\n",
    "xlabel(\"$z$\")"
   ]
  },
  {
   "cell_type": "code",
   "execution_count": 86,
   "metadata": {
    "collapsed": false
   },
   "outputs": [
    {
     "data": {
      "text/plain": [
       "<matplotlib.text.Text at 0x133b7fd0>"
      ]
     },
     "execution_count": 86,
     "metadata": {},
     "output_type": "execute_result"
    },
    {
     "data": {
      "image/png": "[encoded data removed]",
      "text/plain": [
       "<matplotlib.figure.Figure at 0x1320f550>"
      ]
     },
     "metadata": {},
     "output_type": "display_data"
    }
   ],
   "source": [
    "plot(z,Rc)\n",
    "ylabel(\"$R_c$\")\n",
    "xlabel(\"$z$\")"
   ]
  },
  {
   "cell_type": "code",
   "execution_count": 87,
   "metadata": {
    "collapsed": false
   },
   "outputs": [
    {
     "data": {
      "text/plain": [
       "<matplotlib.text.Text at 0xe3c8470>"
      ]
     },
     "execution_count": 87,
     "metadata": {},
     "output_type": "execute_result"
    },
    {
     "data": {
      "image/png": "[encoded data removed]",
      "text/plain": [
       "<matplotlib.figure.Figure at 0x12d62390>"
      ]
     },
     "metadata": {},
     "output_type": "display_data"
    }
   ],
   "source": [
    "plot(z,RH)\n",
    "ylabel(\"$R_H$\")\n",
    "xlabel(\"$z$\")"
   ]
  },
  {
   "cell_type": "code",
   "execution_count": 88,
   "metadata": {
    "collapsed": false
   },
   "outputs": [
    {
     "data": {
      "text/plain": [
       "<matplotlib.text.Text at 0x12d45d68>"
      ]
     },
     "execution_count": 88,
     "metadata": {},
     "output_type": "execute_result"
    },
    {
     "data": {
      "image/png": "[encoded data removed]",
      "text/plain": [
       "<matplotlib.figure.Figure at 0x12e73b00>"
      ]
     },
     "metadata": {},
     "output_type": "display_data"
    }
   ],
   "source": [
    "plot(z[:-1],t)\n",
    "ylabel(\"$t$\")\n",
    "xlabel(\"$z$\")"
   ]
  }
 ],
 "metadata": {
  "kernelspec": {
   "display_name": "Python 2",
   "language": "python",
   "name": "python2"
  },
  "language_info": {
   "codemirror_mode": {
    "name": "ipython",
    "version": 2
   },
   "file_extension": ".py",
   "mimetype": "text/x-python",
   "name": "python",
   "nbconvert_exporter": "python",
   "pygments_lexer": "ipython2",
   "version": "2.7.10"
  }
 },
 "nbformat": 4,
 "nbformat_minor": 0
}
