{
 "cells": [
  {
   "cell_type": "markdown",
   "metadata": {},
   "source": [
    "# 3"
   ]
  },
  {
   "cell_type": "markdown",
   "metadata": {},
   "source": [
    "The approach taken here is to numerically integrate the Friedmann equation for the given planck and WMAP models, yielding the scale factor as a function of time."
   ]
  },
  {
   "cell_type": "code",
   "execution_count": 78,
   "metadata": {
    "collapsed": false
   },
   "outputs": [
    {
     "name": "stdout",
     "output_type": "stream",
     "text": [
      "Populating the interactive namespace from numpy and matplotlib\n"
     ]
    },
    {
     "name": "stderr",
     "output_type": "stream",
     "text": [
      "WARNING: pylab import has clobbered these variables: ['diff']\n",
      "`%matplotlib` prevents importing * from pylab and numpy\n"
     ]
    }
   ],
   "source": [
    "%pylab inline"
   ]
  },
  {
   "cell_type": "code",
   "execution_count": 75,
   "metadata": {
    "collapsed": false
   },
   "outputs": [],
   "source": [
    "import numpy as np\n",
    "from collections import deque\n",
    "\n",
    "\n",
    "def adot(a,WL0,Wm0,Wr0):\n",
    "    # work in hubble time units and assume a0=1\n",
    "    return np.sqrt(Wm0*(a**(-1.)) + Wr0*(a**(-2.))+WL0*(a**(2.))+ 1.-Wm0-Wr0-WL0 )\n",
    "\n",
    "def RK4step(x,xd,dt,*args):\n",
    "    \n",
    "    k1 = xd(x,*args)\n",
    "    k2 = xd(x+(0.5*dt*k1),*args)\n",
    "    k3 = xd(x+(0.5*dt*k2),*args)\n",
    "    k4 = xd(x+(dt*k3),*args)\n",
    "    \n",
    "    return (dt/6.)*(k1+2*(k2+k3)+k4)\n",
    "\n",
    "\n",
    "def a_RK4(WL0,Wm0,Wr0,H0, dt=1e-6, zi=4200, zf = -.66,zt=None,n=None):\n",
    "    \"\"\"\n",
    "    Simple RK4 integrator for the Friedmann equation. Assumes\n",
    "    initial conditions of (t,a)=(0,1) and solves for (t,z,a)\n",
    "    for zi > z > zf.    \n",
    "    \n",
    "    dt is a fraction of the hubble time. H0 must be km/s/mpc.\n",
    "    \n",
    "    zt is a target redshuft of interest; every iteration\n",
    "    is saved when z is within 10% of it.\n",
    "    \"\"\"\n",
    "    \n",
    "    if zt == None:\n",
    "        zt = 2*zi\n",
    "        \n",
    "    if n == None:\n",
    "        n = 51*dt/1e-6\n",
    "    \n",
    "    t = deque([0.])\n",
    "    a = deque([1.])\n",
    "    z = deque([0.])\n",
    "    _a = 1.\n",
    "    _t = 0.\n",
    "    _z = 0.\n",
    "    \n",
    "    # integrate backwards from a0\n",
    "    \n",
    "    i = 0\n",
    "    while _z < zi:\n",
    "            \n",
    "        da = RK4step(_a,adot,-dt,WL0,Wm0,Wr0)     \n",
    "        \n",
    "        _a += da\n",
    "        _t -= dt\n",
    "        _z = 1./_a -1\n",
    "        i += 1\n",
    "        \n",
    "        if not(i % n):\n",
    "            a.appendleft(_a)\n",
    "            t.appendleft(_t)\n",
    "            z.appendleft(_z)\n",
    "            \n",
    "        # save every iteration if we're close to the target redshift   \n",
    "        elif 0.9*zt < _z < 1.1*zt:\n",
    "            a.appendleft(_a)\n",
    "            t.appendleft(_t)\n",
    "            z.appendleft(_z)\n",
    "            \n",
    "    # integrate forward from a0\n",
    "\n",
    "    _a = 1\n",
    "    _t = 0\n",
    "    _z = 0\n",
    "    \n",
    "    i = 0\n",
    "    while  zi > _z > zf:\n",
    "        \n",
    "        da = RK4step(_a,adot,dt,WL0,Wm0,Wr0)     \n",
    "        \n",
    "        _a += da\n",
    "        _t += dt\n",
    "        _z = 1./_a -1\n",
    "        i += 1\n",
    "        \n",
    "        if not(i % n):\n",
    "            a.append(_a)\n",
    "            t.append(_t)\n",
    "            z.append(_z)\n",
    "            \n",
    "    # ht is in hubble units, s is in seconds\n",
    "    z,ht,a = np.array(z),np.array(t),np.array(a)\n",
    "    s = ht* (3.086e19/(H0)) \n",
    "    return s,ht,z,a\n",
    "    \n",
    "def diff(t1,a1,t2,a2,n=1000):\n",
    "    \n",
    "    ti = max(t1[0],t2[0])\n",
    "    tf = min(t1[-1],t2[-1])\n",
    "    \n",
    "    t = np.linspace(ti,tf,n)\n",
    "    \n",
    "    aa1 = np.interp(t,t1,a1)\n",
    "    aa2 = np.interp(t,t2,a2)\n",
    "    \n",
    "    return t,aa1-aa2\n",
    "    \n",
    "    "
   ]
  },
  {
   "cell_type": "code",
   "execution_count": 76,
   "metadata": {
    "collapsed": false,
    "scrolled": false
   },
   "outputs": [
    {
     "ename": "KeyboardInterrupt",
     "evalue": "",
     "output_type": "error",
     "traceback": [
      "\u001b[1;31m---------------------------------------------------------------------------\u001b[0m",
      "\u001b[1;31mKeyboardInterrupt\u001b[0m                         Traceback (most recent call last)",
      "\u001b[1;32m<ipython-input-76-f4c060e701b4>\u001b[0m in \u001b[0;36m<module>\u001b[1;34m()\u001b[0m\n\u001b[0;32m      7\u001b[0m \u001b[1;33m\u001b[0m\u001b[0m\n\u001b[0;32m      8\u001b[0m t_planck15_s, t_planck15_h0,z_planck15, a_planck15 =  a_RK4(WL0_p,Wm0_p,Wr0_p,H0_p,\n\u001b[1;32m----> 9\u001b[1;33m                                                             dt = 1e-7, zi = 3700,zt=3400,n=51)\n\u001b[0m\u001b[0;32m     10\u001b[0m \u001b[1;33m\u001b[0m\u001b[0m\n\u001b[0;32m     11\u001b[0m \u001b[0mH0_w\u001b[0m \u001b[1;33m=\u001b[0m \u001b[1;36m71.\u001b[0m \u001b[1;31m# km/s/mpc\u001b[0m\u001b[1;33m\u001b[0m\u001b[0m\n",
      "\u001b[1;32m<ipython-input-75-a13b219c3c57>\u001b[0m in \u001b[0;36ma_RK4\u001b[1;34m(WL0, Wm0, Wr0, H0, dt, zi, zf, zt, n)\u001b[0m\n\u001b[0;32m     47\u001b[0m     \u001b[1;32mwhile\u001b[0m \u001b[0m_z\u001b[0m \u001b[1;33m<\u001b[0m \u001b[0mzi\u001b[0m\u001b[1;33m:\u001b[0m\u001b[1;33m\u001b[0m\u001b[0m\n\u001b[0;32m     48\u001b[0m \u001b[1;33m\u001b[0m\u001b[0m\n\u001b[1;32m---> 49\u001b[1;33m         \u001b[0mda\u001b[0m \u001b[1;33m=\u001b[0m \u001b[0mRK4step\u001b[0m\u001b[1;33m(\u001b[0m\u001b[0m_a\u001b[0m\u001b[1;33m,\u001b[0m\u001b[0madot\u001b[0m\u001b[1;33m,\u001b[0m\u001b[1;33m-\u001b[0m\u001b[0mdt\u001b[0m\u001b[1;33m,\u001b[0m\u001b[0mWL0\u001b[0m\u001b[1;33m,\u001b[0m\u001b[0mWm0\u001b[0m\u001b[1;33m,\u001b[0m\u001b[0mWr0\u001b[0m\u001b[1;33m)\u001b[0m\u001b[1;33m\u001b[0m\u001b[0m\n\u001b[0m\u001b[0;32m     50\u001b[0m \u001b[1;33m\u001b[0m\u001b[0m\n\u001b[0;32m     51\u001b[0m         \u001b[0m_a\u001b[0m \u001b[1;33m+=\u001b[0m \u001b[0mda\u001b[0m\u001b[1;33m\u001b[0m\u001b[0m\n",
      "\u001b[1;32m<ipython-input-75-a13b219c3c57>\u001b[0m in \u001b[0;36mRK4step\u001b[1;34m(x, xd, dt, *args)\u001b[0m\n\u001b[0;32m     10\u001b[0m \u001b[1;33m\u001b[0m\u001b[0m\n\u001b[0;32m     11\u001b[0m     \u001b[0mk1\u001b[0m \u001b[1;33m=\u001b[0m \u001b[0mxd\u001b[0m\u001b[1;33m(\u001b[0m\u001b[0mx\u001b[0m\u001b[1;33m,\u001b[0m\u001b[1;33m*\u001b[0m\u001b[0margs\u001b[0m\u001b[1;33m)\u001b[0m\u001b[1;33m\u001b[0m\u001b[0m\n\u001b[1;32m---> 12\u001b[1;33m     \u001b[0mk2\u001b[0m \u001b[1;33m=\u001b[0m \u001b[0mxd\u001b[0m\u001b[1;33m(\u001b[0m\u001b[0mx\u001b[0m\u001b[1;33m+\u001b[0m\u001b[1;33m(\u001b[0m\u001b[1;36m0.5\u001b[0m\u001b[1;33m*\u001b[0m\u001b[0mdt\u001b[0m\u001b[1;33m*\u001b[0m\u001b[0mk1\u001b[0m\u001b[1;33m)\u001b[0m\u001b[1;33m,\u001b[0m\u001b[1;33m*\u001b[0m\u001b[0margs\u001b[0m\u001b[1;33m)\u001b[0m\u001b[1;33m\u001b[0m\u001b[0m\n\u001b[0m\u001b[0;32m     13\u001b[0m     \u001b[0mk3\u001b[0m \u001b[1;33m=\u001b[0m \u001b[0mxd\u001b[0m\u001b[1;33m(\u001b[0m\u001b[0mx\u001b[0m\u001b[1;33m+\u001b[0m\u001b[1;33m(\u001b[0m\u001b[1;36m0.5\u001b[0m\u001b[1;33m*\u001b[0m\u001b[0mdt\u001b[0m\u001b[1;33m*\u001b[0m\u001b[0mk2\u001b[0m\u001b[1;33m)\u001b[0m\u001b[1;33m,\u001b[0m\u001b[1;33m*\u001b[0m\u001b[0margs\u001b[0m\u001b[1;33m)\u001b[0m\u001b[1;33m\u001b[0m\u001b[0m\n\u001b[0;32m     14\u001b[0m     \u001b[0mk4\u001b[0m \u001b[1;33m=\u001b[0m \u001b[0mxd\u001b[0m\u001b[1;33m(\u001b[0m\u001b[0mx\u001b[0m\u001b[1;33m+\u001b[0m\u001b[1;33m(\u001b[0m\u001b[0mdt\u001b[0m\u001b[1;33m*\u001b[0m\u001b[0mk3\u001b[0m\u001b[1;33m)\u001b[0m\u001b[1;33m,\u001b[0m\u001b[1;33m*\u001b[0m\u001b[0margs\u001b[0m\u001b[1;33m)\u001b[0m\u001b[1;33m\u001b[0m\u001b[0m\n",
      "\u001b[1;31mKeyboardInterrupt\u001b[0m: "
     ]
    }
   ],
   "source": [
    "# run the simulations\n",
    "\n",
    "H0_p = 67. # km/s/mpc\n",
    "WL0_p = 0.6843\n",
    "Wm0_p = 0.3157\n",
    "Wr0_p = 9.2364e-5\n",
    "\n",
    "t_planck15_s, t_planck15_h0,z_planck15, a_planck15 =  a_RK4(WL0_p,Wm0_p,Wr0_p,H0_p,\n",
    "                                                            dt = 1e-7, zi = 3700,zt=3400,n=51)\n",
    "\n",
    "H0_w = 71. # km/s/mpc\n",
    "WL0_w = 0.734\n",
    "Wm0_w = 0.266\n",
    "Wr0_w = 9.2364e-5\n",
    "\n",
    "t_wmap7_s, t_wmap7_h0,z_wmap7, a_wmap7 =  a_RK4(WL0_w,Wm0_w,Wr0_w,H0_w,\n",
    "                                                dt = 1e-7, zi = 3700,zt=2900,n=51)\n",
    "\n",
    "\n",
    "tdiff,adiff = diff(t_planck15_h0, a_planck15,t_wmap7_h0, a_wmap7)\n",
    "tdiff_s,adiff_s = diff(t_planck15_s, a_planck15,t_wmap7_s, a_wmap7)\n",
    "\n"
   ]
  },
  {
   "cell_type": "code",
   "execution_count": 79,
   "metadata": {
    "collapsed": false,
    "scrolled": false
   },
   "outputs": [
    {
     "data": {
      "image/png": "[encoded data removed]",
      "text/plain": [
       "<matplotlib.figure.Figure at 0xb850198>"
      ]
     },
     "metadata": {},
     "output_type": "display_data"
    }
   ],
   "source": [
    "# plot the simulations\n",
    "\n",
    "fig = plt.figure( figsize=(12,6),dpi=240 )\n",
    "\n",
    "ax1 = fig.add_subplot(221)\n",
    "ax1.plot(t_planck15_h0, a_planck15,linewidth=1.5)\n",
    "ax1.plot(t_wmap7_h0, a_wmap7,linewidth=1.5)\n",
    "ax1.axvline(x=0,linewidth=1.5,color='r')\n",
    "\n",
    "ax1.set_ylabel('$a/a_0$')\n",
    "\n",
    "ax2 = fig.add_subplot(223,sharex=ax1)\n",
    "ax2.plot(tdiff,adiff,linewidth=1.5)\n",
    "ax2.axvline(x=0,linewidth=1.5,color='r')\n",
    "ax2.set_ylabel('$\\Delta a/a_0$')\n",
    "\n",
    "ax2.set_xlabel('$H_0(t-t_0)$')\n",
    "\n",
    "\n",
    "ax3 = fig.add_subplot(222)\n",
    "ax3.plot(t_planck15_s, a_planck15,linewidth=1.5)\n",
    "ax3.plot(t_wmap7_s, a_wmap7,linewidth=1.5)\n",
    "ax3.axvline(x=0,linewidth=1.5,color='r')\n",
    "ax3.set_ylabel('$a/a_0$')\n",
    "\n",
    "ax4 = fig.add_subplot(224,sharex=ax3)\n",
    "ax4.plot(tdiff_s,adiff_s,linewidth=1.5)\n",
    "ax4.axvline(x=0,linewidth=1.5,color='r')\n",
    "ax4.set_ylabel('$\\Delta a/a_0$')\n",
    "\n",
    "ax4.set_xlabel('$(t-t_0)seconds$')\n",
    "\n",
    "fig.tight_layout()\n",
    "\n",
    "fig.show()\n"
   ]
  },
  {
   "cell_type": "markdown",
   "metadata": {},
   "source": [
    "Above: Expansion history of WMAP7 and Planck2015 models, both assuming a $\\Omega_r \\approx 9 \\times 10^{-5}$. Planck is in blue, WMAP is in green. The lower row is the residual $(a_{planck} - a_{WMAP})/a_0$.\n",
    "\n",
    "$\\\\$\n",
    "\n",
    "$\\Omega_r =\\Omega_{r,0}(1+z)^4 $ and $\\Omega_m = \\Omega_{m,0}(1+z)^3$ are equal when $z = z_{eq}=\\Omega_{m,0}/\\Omega_{r,0} - 1$ For Planck 2015, $z_{eq}=3417$ and for WMAP7, $z_{eq}=2879$. Zooming in on plots of $z$ vs $(t-t_0)_{eq}$ for our simulation runs, we find   $(t-t_0)_{eq} \\approx -4.38 \\times 10^{17} \\,\\mathrm{s}$ for Planck 2015 and $(t-t_0)_{eq} \\approx -4.33 \\times 10^{17} \\mathrm{s}\\,$ for WMAP7.\n"
   ]
  },
  {
   "cell_type": "markdown",
   "metadata": {},
   "source": [
    "#4"
   ]
  },
  {
   "cell_type": "markdown",
   "metadata": {},
   "source": [
    "$\\rho_m$ dilutes as $a^{-3}$ while $\\rho_{\\Lambda}$ is constant. Therefore, we have matter-dark energy equality at\n",
    "\n",
    "$$ a_{eq} = \\left( \\frac{\\Omega_{m,0}}{\\Omega_{\\Lambda,0}}\\right)^{1/3}$$\n",
    "\n",
    "For the Planck 2015 values, $a_{eq} = 0.773$ Looking at the expansion history above, this happens at $ t-t_0 \\approx -1.3 \\times 10^{17}\\, \\mathrm{s}$. Again inspecting the plots above, the Planck 2015 universe looks to have $t_0$ at about $4.38\\times 10^{17}\\, \\mathrm{s} $, so we could say $t_{eq}\\approx 3.08\\times 10^{17}\\, \\mathrm{s}$, or about 9.767 billion years."
   ]
  },
  {
   "cell_type": "markdown",
   "metadata": {},
   "source": [
    "# 5"
   ]
  },
  {
   "cell_type": "markdown",
   "metadata": {},
   "source": [
    "The Friedmann model for for a flat, radiation-dominated universe is\n",
    "\n",
    "$$ \\dot{a} = H_0a_0\\sqrt{\\Omega_{r,0}(a/a_0)^{-2}}$$\n",
    "\n",
    "It's easy to see that a solution of the form $\\beta t^{1/2}$ is valid:\n",
    "\n",
    "$$ \\frac{d}{dt}\\beta t^{1/2} = \\frac{1}{2}\\beta t^{-1/2} = H_0a_0^2\\sqrt{\\Omega_{r,0}}\\beta^{-1}t^{-1/2} $$\n",
    "\n",
    "So $\\beta = \\sqrt{2H_0a_0^2\\sqrt{\\Omega_{r,0}}}$. Radiation energy density goes with $a^{-4}$, and also with $T^4$:\n",
    "\n",
    "$$ \\begin{align*}\n",
    "    \\rho_r = \\rho_{r,0}a^{-4} &= \\frac{4\\sigma}{c}T^4 \\\\[11pt]\n",
    "    \\implies T &= \\left(\\frac{\\rho_{r,0}c}{4\\sigma}\\right)^{1/4}a^{-1} =  \\left(\\frac{\\rho_{r,0}c}{4\\sigma}\\right)^{1/4}\\beta^{-1}t^{-1/2} \\\\[11pt]\n",
    "    &\\equiv At^{-1/2}\n",
    "\\end{align*}$$\n",
    "\n",
    "I'll try to evaluate A in SI units, using\n",
    "\n",
    "$$\\begin{align*}\n",
    "H_0 &= 67.8 \\mathrm{km/s/Mpc} = 2.2 \\times 10^{-18} \\mathrm{s^{-1}} \\\\\n",
    "\\rho_{r,0} &= 7.86 \\times 10^{-31} \\mathrm{Kg\\,m^{-3}} = 7.07 \\times 10^{-14}\\,\\mathrm{J\\,m^{-3}} \\\\\n",
    "\\Omega_{r,0} &= 9.24 \\times 10^{-5}\n",
    "\\end{align*}$$\n",
    "\n",
    "which gives A = $1.51 \\times 10^{10} \\,\\mathrm{K\\,}\\sqrt{\\mathrm{s}}$"
   ]
  },
  {
   "cell_type": "markdown",
   "metadata": {},
   "source": [
    "## 6"
   ]
  },
  {
   "cell_type": "markdown",
   "metadata": {},
   "source": [
    "I'll interpret the problem statement to mean that we are to assume nucleosynthesis started when the scale factor was $(3 \\times 10^{-9})a_0 $. This corresponds to a redshift $z_n = 3.3 \\times 10^{8}$, which is long before the start of the matter epoch, so the radiation dominated approximation should work. Then assuming $a=\\beta t^{1/2}$ gives $t_n = (a_n/\\beta)^2 = 212\\, $ seconds."
   ]
  },
  {
   "cell_type": "markdown",
   "metadata": {},
   "source": [
    "##9"
   ]
  },
  {
   "cell_type": "markdown",
   "metadata": {},
   "source": [
    "We know in advance that last scattering ($t \\approx 380,000\\, \\mathrm{years}$) happened long after a relatively brief radiation epoch (ending at $t \\approx 50,000\\, \\mathrm{years}$) and long before the dark energy epoch (starting at $t \\approx 10^9\\,\\mathrm{years}$), so let's assume that we have a totally matter dominated, $\\Omega_m = 1$ universe at all (relevant) times.\n",
    "\n",
    "The scale factor is easily found exactly in this scenario:\n",
    "\n",
    "$$ \\begin{align*}\n",
    "\\dot{a} &= a_0H_0\\sqrt{(\\Omega_m a^{-1})} = H_0a^{-1/2}\n",
    "\\end{align*}$$\n",
    "\n",
    "Attempting a solution $a=\\beta t^k$,\n",
    "\n",
    "$$\\begin{align*}\n",
    "\\dot{a} &= k\\beta t^{k-1} = H_0\\beta^{-1/2}t^{-k/2} \\\\[11pt]\n",
    "&\\implies k-1 = -k/2 \\implies k=2/3 \\\\[11pt]\n",
    "&\\implies \\beta = \\left(\\frac{3}{2}H_0\\right)^{2/3}\n",
    "\\end{align*}$$\n",
    "\n",
    "So $a=\\left(\\frac{3}{2}H_0t\\right)^{2/3}$. Let $a^*$ be the scale factor at the surface of last scattering. The time at last scattering will be $t^* = \\frac{2}{3H_0}a^*\\,^{3/2}$, with a particle horizon of\n",
    "\n",
    "$$d_h = a^* \\int_0^{t^*} \\frac{dt}{a} = \\frac{2}{H_0}a^*\\,^{3/2} $$\n",
    "\n",
    "The last piece we need is the angular diameter distance to the surface of last scattering. For a spatially flat universe, this is\n",
    "\n",
    "$$ d_A = (1+z^*)^{-1}\\int_{t*}^{0}\\frac{c\\mathrm{dt}}{a}$$\n",
    "\n",
    "though for this calculation we can't assume a matter dominated universe, since we're integrating over both matter and vacuum dominated times. Fortunately, we already have numerical values for $a$ during this period. Assuming $z^* = 1100$, "
   ]
  },
  {
   "cell_type": "code",
   "execution_count": 55,
   "metadata": {
    "collapsed": false
   },
   "outputs": [],
   "source": [
    "# find the angular diameter distance\n",
    "\n",
    "Z = 1100.\n",
    "A = 1/(1+Z)\n",
    "c = 3e8\n",
    "\n",
    "H0 = H0_p/3.086e19 # need hubble constant in units of inverse seconds\n",
    "\n",
    "i = np.logical_and(z_planck15<Z,z_planck15>0)\n",
    "a = a_planck15[i][:-1]\n",
    "dt = np.diff(t_planck15_s[i])\n",
    "\n",
    "d_a=A*np.sum(dt/a)\n",
    "\n",
    "# find the horizon distance on the surface of last scattering\n",
    "d_h = (A**(1.5))*(2/H0)\n",
    "\n",
    "theta = (d_h/d_a) * (360/(2*np.pi)) # degrees\n",
    "d_h = c*d_h / 3.086e19 # kiloparsecs\n",
    "\n"
   ]
  },
  {
   "cell_type": "markdown",
   "metadata": {
    "collapsed": false
   },
   "source": [
    "We finally end up with a CMB particle horizon of 245.155 Kpc which subtends 1.109 degrees on the sky."
   ]
  },
  {
   "cell_type": "code",
   "execution_count": null,
   "metadata": {
    "collapsed": true
   },
   "outputs": [],
   "source": []
  }
 ],
 "metadata": {
  "kernelspec": {
   "display_name": "Python 2",
   "language": "python",
   "name": "python2"
  },
  "language_info": {
   "codemirror_mode": {
    "name": "ipython",
    "version": 2
   },
   "file_extension": ".py",
   "mimetype": "text/x-python",
   "name": "python",
   "nbconvert_exporter": "python",
   "pygments_lexer": "ipython2",
   "version": "2.7.10"
  }
 },
 "nbformat": 4,
 "nbformat_minor": 0
}
